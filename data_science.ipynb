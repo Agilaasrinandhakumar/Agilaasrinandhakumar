{
  "nbformat": 4,
  "nbformat_minor": 0,
  "metadata": {
    "colab": {
      "provenance": [],
      "authorship_tag": "ABX9TyOUYp34hZ/iEAD3i0IbUW2A",
      "include_colab_link": true
    },
    "kernelspec": {
      "name": "python3",
      "display_name": "Python 3"
    },
    "language_info": {
      "name": "python"
    }
  },
  "cells": [
    {
      "cell_type": "markdown",
      "metadata": {
        "id": "view-in-github",
        "colab_type": "text"
      },
      "source": [
        "<a href=\"https://colab.research.google.com/github/Agilaasrinandhakumar/Agilaasrinandhakumar/blob/main/data_science.ipynb\" target=\"_parent\"><img src=\"https://colab.research.google.com/assets/colab-badge.svg\" alt=\"Open In Colab\"/></a>"
      ]
    },
    {
      "cell_type": "code",
      "source": [
        "my_string = \"42\"\n",
        "my_integer = int(my_string)\n",
        "\n",
        "print(my_integer)  # Output: 42\n",
        "print(type(my_integer))  # Output: <class 'int'>\n",
        "\n"
      ],
      "metadata": {
        "colab": {
          "base_uri": "https://localhost:8080/"
        },
        "id": "3JDgd-zJt4Fp",
        "outputId": "50ee20bf-fb9d-4543-d017-02afbef4b7f2"
      },
      "execution_count": 6,
      "outputs": [
        {
          "output_type": "stream",
          "name": "stdout",
          "text": [
            "42\n",
            "<class 'int'>\n"
          ]
        }
      ]
    },
    {
      "cell_type": "code",
      "source": [
        "my_string = \"23\"\n",
        "my_integer = int(my_string)\n",
        "print(my_integer)\n",
        "print(type(my_integer))"
      ],
      "metadata": {
        "colab": {
          "base_uri": "https://localhost:8080/"
        },
        "id": "Ni-cipNBu7S0",
        "outputId": "923b00fc-6a68-40c0-f084-a7b0bec0d6f6"
      },
      "execution_count": 7,
      "outputs": [
        {
          "output_type": "stream",
          "name": "stdout",
          "text": [
            "23\n",
            "<class 'int'>\n"
          ]
        }
      ]
    },
    {
      "cell_type": "code",
      "source": [
        "my_string = \"23.5\"\n",
        "my_float = float(my_string)\n",
        "print(my_float)\n",
        "print(type(my_float))"
      ],
      "metadata": {
        "colab": {
          "base_uri": "https://localhost:8080/"
        },
        "id": "N8WlW_bxwEsu",
        "outputId": "6f43a2d0-c396-4ec5-8902-05a72db5eed7"
      },
      "execution_count": 9,
      "outputs": [
        {
          "output_type": "stream",
          "name": "stdout",
          "text": [
            "23.5\n",
            "<class 'float'>\n"
          ]
        }
      ]
    },
    {
      "cell_type": "code",
      "source": [
        "my_integer = 42\n",
        "my_string = str(my_integer)\n",
        "print(my_string)\n",
        "print(type(my_string))"
      ],
      "metadata": {
        "colab": {
          "base_uri": "https://localhost:8080/"
        },
        "id": "D6IotH9Rx657",
        "outputId": "aaeb703c-25db-41b0-f6ac-f154ef544cc4"
      },
      "execution_count": 10,
      "outputs": [
        {
          "output_type": "stream",
          "name": "stdout",
          "text": [
            "42\n",
            "<class 'str'>\n"
          ]
        }
      ]
    },
    {
      "cell_type": "code",
      "source": [
        "my_float = 3.14\n",
        "my_string = str(my_float)\n",
        "print(my_string)\n",
        "print(type(my_string))\n"
      ],
      "metadata": {
        "colab": {
          "base_uri": "https://localhost:8080/"
        },
        "id": "NAu_uqsvyFhW",
        "outputId": "6bb76a8e-4bd9-4411-df47-b08a88af7188"
      },
      "execution_count": 11,
      "outputs": [
        {
          "output_type": "stream",
          "name": "stdout",
          "text": [
            "3.14\n",
            "<class 'str'>\n"
          ]
        }
      ]
    },
    {
      "cell_type": "code",
      "source": [
        "my_integer = 42\n",
        "my_float = float(my_integer)\n",
        "print(my_float)\n",
        "print(type(my_float))"
      ],
      "metadata": {
        "colab": {
          "base_uri": "https://localhost:8080/"
        },
        "id": "9U4PyP9OyY0-",
        "outputId": "a13f187e-0b6a-4972-df8a-46d5c6e7538f"
      },
      "execution_count": 12,
      "outputs": [
        {
          "output_type": "stream",
          "name": "stdout",
          "text": [
            "42.0\n",
            "<class 'float'>\n"
          ]
        }
      ]
    },
    {
      "cell_type": "code",
      "source": [
        "my_boolean = True\n",
        "my_integer = int(my_boolean)\n",
        "print(my_integer)\n",
        "print(type(my_integer))"
      ],
      "metadata": {
        "colab": {
          "base_uri": "https://localhost:8080/"
        },
        "id": "MrKCPLXlzArT",
        "outputId": "1affcf64-ca1e-4e31-e515-7d2310e652b2"
      },
      "execution_count": 13,
      "outputs": [
        {
          "output_type": "stream",
          "name": "stdout",
          "text": [
            "1\n",
            "<class 'int'>\n"
          ]
        }
      ]
    },
    {
      "cell_type": "code",
      "source": [
        "my_boolean = True\n",
        "my_string = str(my_boolean)\n",
        "print(my_string)\n",
        "print(type(my_string))"
      ],
      "metadata": {
        "colab": {
          "base_uri": "https://localhost:8080/"
        },
        "id": "6hku0UanzJQP",
        "outputId": "36239082-5fac-4a58-f124-747c536b432d"
      },
      "execution_count": 14,
      "outputs": [
        {
          "output_type": "stream",
          "name": "stdout",
          "text": [
            "True\n",
            "<class 'str'>\n"
          ]
        }
      ]
    },
    {
      "cell_type": "code",
      "source": [
        "my_list = [1, 2, 3]\n",
        "my_tuple = tuple(my_list)\n",
        "print(my_tuple)\n",
        "print(type(my_tuple))"
      ],
      "metadata": {
        "colab": {
          "base_uri": "https://localhost:8080/"
        },
        "id": "BcOhENKQzTLI",
        "outputId": "e31ee58d-4a1a-4533-c98b-ebf824ce8c77"
      },
      "execution_count": 15,
      "outputs": [
        {
          "output_type": "stream",
          "name": "stdout",
          "text": [
            "(1, 2, 3)\n",
            "<class 'tuple'>\n"
          ]
        }
      ]
    },
    {
      "cell_type": "code",
      "source": [
        "my_tuple = (1, 2, 3)\n",
        "my_list = list(my_tuple)\n",
        "print(my_list)\n",
        "print(type(my_list))"
      ],
      "metadata": {
        "colab": {
          "base_uri": "https://localhost:8080/"
        },
        "id": "nzjg4XdMzcw-",
        "outputId": "1f8d86e1-ba8b-4a92-c3b4-2ac8cb0de6f1"
      },
      "execution_count": 16,
      "outputs": [
        {
          "output_type": "stream",
          "name": "stdout",
          "text": [
            "[1, 2, 3]\n",
            "<class 'list'>\n"
          ]
        }
      ]
    }
  ]
}