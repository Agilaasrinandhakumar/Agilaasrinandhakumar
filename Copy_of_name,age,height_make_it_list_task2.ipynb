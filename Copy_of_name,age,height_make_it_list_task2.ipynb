{
  "nbformat": 4,
  "nbformat_minor": 0,
  "metadata": {
    "colab": {
      "provenance": [],
      "authorship_tag": "ABX9TyNis6MoyIcNV3UhBL5o7HN3",
      "include_colab_link": true
    },
    "kernelspec": {
      "name": "python3",
      "display_name": "Python 3"
    },
    "language_info": {
      "name": "python"
    }
  },
  "cells": [
    {
      "cell_type": "markdown",
      "metadata": {
        "id": "view-in-github",
        "colab_type": "text"
      },
      "source": [
        "<a href=\"https://colab.research.google.com/github/Agilaasrinandhakumar/Agilaasrinandhakumar/blob/main/Copy_of_name%2Cage%2Cheight_make_it_list_task2.ipynb\" target=\"_parent\"><img src=\"https://colab.research.google.com/assets/colab-badge.svg\" alt=\"Open In Colab\"/></a>"
      ]
    },
    {
      "cell_type": "code",
      "execution_count": null,
      "metadata": {
        "colab": {
          "base_uri": "https://localhost:8080/"
        },
        "id": "Ip3FIwTdWdBo",
        "outputId": "28a8c56c-ae04-4114-cd10-54bc657f978c"
      },
      "outputs": [
        {
          "output_type": "stream",
          "name": "stdout",
          "text": [
            "enter your name:agilaa\n",
            "enter your age:22\n",
            "enter youe height:5.6\n",
            "<class 'list'>\n"
          ]
        }
      ],
      "source": [
        "name = input('enter your name:')\n",
        "age = input ('enter your age:')\n",
        "height = input ('enter youe height:')\n",
        "l1 = list[name,age,height]\n",
        "print(list)"
      ]
    }
  ]
}